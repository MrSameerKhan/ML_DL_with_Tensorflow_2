{
 "metadata": {
  "language_info": {
   "codemirror_mode": {
    "name": "ipython",
    "version": 3
   },
   "file_extension": ".py",
   "mimetype": "text/x-python",
   "name": "python",
   "nbconvert_exporter": "python",
   "pygments_lexer": "ipython3",
   "version": "3.7.10"
  },
  "orig_nbformat": 2,
  "kernelspec": {
   "name": "python3",
   "display_name": "Python 3.7.10 64-bit"
  }
 },
 "nbformat": 4,
 "nbformat_minor": 2,
 "cells": [
  {
   "source": [
    "# Stock Sentiment Analysis using News Headlines"
   ],
   "cell_type": "markdown",
   "metadata": {}
  },
  {
   "source": [
    "The data is from Kaggle and here we have to predict whether stock price will increase or decrease based on news headlines. Date column have the date, label is 1 or 0. 1 means the stock price will increase, 0 means it will remain same or decrease. All the other columns containt the top news headlines of the day."
   ],
   "cell_type": "markdown",
   "metadata": {}
  },
  {
   "cell_type": "code",
   "execution_count": 3,
   "metadata": {},
   "outputs": [],
   "source": [
    "import pandas as pd"
   ]
  },
  {
   "cell_type": "code",
   "execution_count": 4,
   "metadata": {},
   "outputs": [],
   "source": [
    "data_path = \"data/data.csv\""
   ]
  },
  {
   "cell_type": "code",
   "execution_count": 5,
   "metadata": {},
   "outputs": [],
   "source": [
    "df = pd.read_csv(data_path, encoding=\"ISO-8859-1\")"
   ]
  },
  {
   "cell_type": "code",
   "execution_count": 6,
   "metadata": {},
   "outputs": [
    {
     "output_type": "execute_result",
     "data": {
      "text/plain": [
       "         Date  ...                         Top25\n",
       "0  2000-01-03  ...            Recovering a title\n",
       "1  2000-01-04  ...  Millennium bug fails to bite\n",
       "2  2000-01-05  ...                  Useful links\n",
       "3  2000-01-06  ...   Lessons of law's hard heart\n",
       "4  2000-01-07  ...                    Gone aloft\n",
       "\n",
       "[5 rows x 27 columns]"
      ],
      "text/html": "<div>\n<style scoped>\n    .dataframe tbody tr th:only-of-type {\n        vertical-align: middle;\n    }\n\n    .dataframe tbody tr th {\n        vertical-align: top;\n    }\n\n    .dataframe thead th {\n        text-align: right;\n    }\n</style>\n<table border=\"1\" class=\"dataframe\">\n  <thead>\n    <tr style=\"text-align: right;\">\n      <th></th>\n      <th>Date</th>\n      <th>Label</th>\n      <th>Top1</th>\n      <th>Top2</th>\n      <th>Top3</th>\n      <th>Top4</th>\n      <th>Top5</th>\n      <th>Top6</th>\n      <th>Top7</th>\n      <th>Top8</th>\n      <th>Top9</th>\n      <th>Top10</th>\n      <th>Top11</th>\n      <th>Top12</th>\n      <th>Top13</th>\n      <th>Top14</th>\n      <th>Top15</th>\n      <th>Top16</th>\n      <th>Top17</th>\n      <th>Top18</th>\n      <th>Top19</th>\n      <th>Top20</th>\n      <th>Top21</th>\n      <th>Top22</th>\n      <th>Top23</th>\n      <th>Top24</th>\n      <th>Top25</th>\n    </tr>\n  </thead>\n  <tbody>\n    <tr>\n      <th>0</th>\n      <td>2000-01-03</td>\n      <td>0</td>\n      <td>A 'hindrance to operations': extracts from the...</td>\n      <td>Scorecard</td>\n      <td>Hughes' instant hit buoys Blues</td>\n      <td>Jack gets his skates on at ice-cold Alex</td>\n      <td>Chaos as Maracana builds up for United</td>\n      <td>Depleted Leicester prevail as Elliott spoils E...</td>\n      <td>Hungry Spurs sense rich pickings</td>\n      <td>Gunners so wide of an easy target</td>\n      <td>Derby raise a glass to Strupar's debut double</td>\n      <td>Southgate strikes, Leeds pay the penalty</td>\n      <td>Hammers hand Robson a youthful lesson</td>\n      <td>Saints party like it's 1999</td>\n      <td>Wear wolves have turned into lambs</td>\n      <td>Stump mike catches testy Gough's taunt</td>\n      <td>Langer escapes to hit 167</td>\n      <td>Flintoff injury piles on woe for England</td>\n      <td>Hunters threaten Jospin with new battle of the...</td>\n      <td>Kohl's successor drawn into scandal</td>\n      <td>The difference between men and women</td>\n      <td>Sara Denver, nurse turned solicitor</td>\n      <td>Diana's landmine crusade put Tories in a panic</td>\n      <td>Yeltsin's resignation caught opposition flat-f...</td>\n      <td>Russian roulette</td>\n      <td>Sold out</td>\n      <td>Recovering a title</td>\n    </tr>\n    <tr>\n      <th>1</th>\n      <td>2000-01-04</td>\n      <td>0</td>\n      <td>Scorecard</td>\n      <td>The best lake scene</td>\n      <td>Leader: German sleaze inquiry</td>\n      <td>Cheerio, boyo</td>\n      <td>The main recommendations</td>\n      <td>Has Cubie killed fees?</td>\n      <td>Has Cubie killed fees?</td>\n      <td>Has Cubie killed fees?</td>\n      <td>Hopkins 'furious' at Foster's lack of Hannibal...</td>\n      <td>Has Cubie killed fees?</td>\n      <td>A tale of two tails</td>\n      <td>I say what I like and I like what I say</td>\n      <td>Elbows, Eyes and Nipples</td>\n      <td>Task force to assess risk of asteroid collision</td>\n      <td>How I found myself at last</td>\n      <td>On the critical list</td>\n      <td>The timing of their lives</td>\n      <td>Dear doctor</td>\n      <td>Irish court halts IRA man's extradition to Nor...</td>\n      <td>Burundi peace initiative fades after rebels re...</td>\n      <td>PE points the way forward to the ECB</td>\n      <td>Campaigners keep up pressure on Nazi war crime...</td>\n      <td>Jane Ratcliffe</td>\n      <td>Yet more things you wouldn't know without the ...</td>\n      <td>Millennium bug fails to bite</td>\n    </tr>\n    <tr>\n      <th>2</th>\n      <td>2000-01-05</td>\n      <td>0</td>\n      <td>Coventry caught on counter by Flo</td>\n      <td>United's rivals on the road to Rio</td>\n      <td>Thatcher issues defence before trial by video</td>\n      <td>Police help Smith lay down the law at Everton</td>\n      <td>Tale of Trautmann bears two more retellings</td>\n      <td>England on the rack</td>\n      <td>Pakistan retaliate with call for video of Walsh</td>\n      <td>Cullinan continues his Cape monopoly</td>\n      <td>McGrath puts India out of their misery</td>\n      <td>Blair Witch bandwagon rolls on</td>\n      <td>Pele turns up heat on Ferguson</td>\n      <td>Party divided over Kohl slush fund scandal</td>\n      <td>Manchester United (England)</td>\n      <td>Women in record South Pole walk</td>\n      <td>Vasco da Gama (Brazil)</td>\n      <td>South Melbourne (Australia)</td>\n      <td>Necaxa (Mexico)</td>\n      <td>Real Madrid (Spain)</td>\n      <td>Raja Casablanca (Morocco)</td>\n      <td>Corinthians (Brazil)</td>\n      <td>Tony's pet project</td>\n      <td>Al Nassr (Saudi Arabia)</td>\n      <td>Ideal Holmes show</td>\n      <td>Pinochet leaves hospital after tests</td>\n      <td>Useful links</td>\n    </tr>\n    <tr>\n      <th>3</th>\n      <td>2000-01-06</td>\n      <td>1</td>\n      <td>Pilgrim knows how to progress</td>\n      <td>Thatcher facing ban</td>\n      <td>McIlroy calls for Irish fighting spirit</td>\n      <td>Leicester bin stadium blueprint</td>\n      <td>United braced for Mexican wave</td>\n      <td>Auntie back in fashion, even if the dress look...</td>\n      <td>Shoaib appeal goes to the top</td>\n      <td>Hussain hurt by 'shambles' but lays blame on e...</td>\n      <td>England's decade of disasters</td>\n      <td>Revenge is sweet for jubilant Cronje</td>\n      <td>Our choice, not theirs</td>\n      <td>Profile of former US Nazi Party officer Willia...</td>\n      <td>New evidence shows record of war crimes suspec...</td>\n      <td>The rise of the supernerds</td>\n      <td>Written on the body</td>\n      <td>Putin admits Yeltsin quit to give him a head s...</td>\n      <td>BBC worst hit as digital TV begins to bite</td>\n      <td>How much can you pay for...</td>\n      <td>Christmas glitches</td>\n      <td>Upending a table, Chopping a line and Scoring ...</td>\n      <td>Scientific evidence 'unreliable', defence claims</td>\n      <td>Fusco wins judicial review in extradition case</td>\n      <td>Rebels thwart Russian advance</td>\n      <td>Blair orders shake-up of failing NHS</td>\n      <td>Lessons of law's hard heart</td>\n    </tr>\n    <tr>\n      <th>4</th>\n      <td>2000-01-07</td>\n      <td>1</td>\n      <td>Hitches and Horlocks</td>\n      <td>Beckham off but United survive</td>\n      <td>Breast cancer screening</td>\n      <td>Alan Parker</td>\n      <td>Guardian readers: are you all whingers?</td>\n      <td>Hollywood Beyond</td>\n      <td>Ashes and diamonds</td>\n      <td>Whingers - a formidable minority</td>\n      <td>Alan Parker - part two</td>\n      <td>Thuggery, Toxins and Ties</td>\n      <td>Met faces fresh attack on race crime</td>\n      <td>Everton fans top racist 'league of shame'</td>\n      <td>Our breasts, ourselves</td>\n      <td>Russia's new boss has an extremely strange his...</td>\n      <td>Always and forever</td>\n      <td>Most everywhere:  UDIs</td>\n      <td>Most wanted:  Chloe lunettes</td>\n      <td>Return of the cane 'completely off the agenda'</td>\n      <td>From Sleepy Hollow to Greeneland</td>\n      <td>Blunkett outlines vision for over 11s</td>\n      <td>Embattled Dobson attacks 'play now, pay later'...</td>\n      <td>Doom and the Dome</td>\n      <td>What is the north-south divide?</td>\n      <td>Aitken released from jail</td>\n      <td>Gone aloft</td>\n    </tr>\n  </tbody>\n</table>\n</div>"
     },
     "metadata": {},
     "execution_count": 6
    }
   ],
   "source": [
    "df.head()"
   ]
  },
  {
   "cell_type": "code",
   "execution_count": 7,
   "metadata": {},
   "outputs": [
    {
     "output_type": "execute_result",
     "data": {
      "text/plain": [
       "(4101, 27)"
      ]
     },
     "metadata": {},
     "execution_count": 7
    }
   ],
   "source": [
    "df.shape"
   ]
  },
  {
   "cell_type": "code",
   "execution_count": 8,
   "metadata": {},
   "outputs": [],
   "source": [
    "train = df[df['Date'] < '20150101']\n",
    "test = df[df['Date'] > '20141231']"
   ]
  },
  {
   "cell_type": "code",
   "execution_count": 9,
   "metadata": {},
   "outputs": [
    {
     "output_type": "stream",
     "name": "stdout",
     "text": [
      "(3975, 27)\n(378, 27)\n"
     ]
    }
   ],
   "source": [
    "print(train.shape)\n",
    "print(test.shape)"
   ]
  },
  {
   "cell_type": "code",
   "execution_count": 10,
   "metadata": {},
   "outputs": [],
   "source": [
    "# removing punctuations\n",
    "data = train.iloc[:, 2:27]\n",
    "data.replace(\"[^a-zA-Z]\", \" \", regex=True, inplace=True)\n",
    "\n",
    "# renaming column names\n",
    "new_cols = [str(i) for i in range(25)]\n",
    "data.columns = new_cols"
   ]
  },
  {
   "cell_type": "code",
   "execution_count": 11,
   "metadata": {},
   "outputs": [
    {
     "output_type": "execute_result",
     "data": {
      "text/plain": [
       "                                                   0  ...                            24\n",
       "0  A  hindrance to operations   extracts from the...  ...            Recovering a title\n",
       "1                                          Scorecard  ...  Millennium bug fails to bite\n",
       "2                  Coventry caught on counter by Flo  ...                  Useful links\n",
       "3                      Pilgrim knows how to progress  ...   Lessons of law s hard heart\n",
       "4                               Hitches and Horlocks  ...                    Gone aloft\n",
       "\n",
       "[5 rows x 25 columns]"
      ],
      "text/html": "<div>\n<style scoped>\n    .dataframe tbody tr th:only-of-type {\n        vertical-align: middle;\n    }\n\n    .dataframe tbody tr th {\n        vertical-align: top;\n    }\n\n    .dataframe thead th {\n        text-align: right;\n    }\n</style>\n<table border=\"1\" class=\"dataframe\">\n  <thead>\n    <tr style=\"text-align: right;\">\n      <th></th>\n      <th>0</th>\n      <th>1</th>\n      <th>2</th>\n      <th>3</th>\n      <th>4</th>\n      <th>5</th>\n      <th>6</th>\n      <th>7</th>\n      <th>8</th>\n      <th>9</th>\n      <th>10</th>\n      <th>11</th>\n      <th>12</th>\n      <th>13</th>\n      <th>14</th>\n      <th>15</th>\n      <th>16</th>\n      <th>17</th>\n      <th>18</th>\n      <th>19</th>\n      <th>20</th>\n      <th>21</th>\n      <th>22</th>\n      <th>23</th>\n      <th>24</th>\n    </tr>\n  </thead>\n  <tbody>\n    <tr>\n      <th>0</th>\n      <td>A  hindrance to operations   extracts from the...</td>\n      <td>Scorecard</td>\n      <td>Hughes  instant hit buoys Blues</td>\n      <td>Jack gets his skates on at ice cold Alex</td>\n      <td>Chaos as Maracana builds up for United</td>\n      <td>Depleted Leicester prevail as Elliott spoils E...</td>\n      <td>Hungry Spurs sense rich pickings</td>\n      <td>Gunners so wide of an easy target</td>\n      <td>Derby raise a glass to Strupar s debut double</td>\n      <td>Southgate strikes  Leeds pay the penalty</td>\n      <td>Hammers hand Robson a youthful lesson</td>\n      <td>Saints party like it s</td>\n      <td>Wear wolves have turned into lambs</td>\n      <td>Stump mike catches testy Gough s taunt</td>\n      <td>Langer escapes to hit</td>\n      <td>Flintoff injury piles on woe for England</td>\n      <td>Hunters threaten Jospin with new battle of the...</td>\n      <td>Kohl s successor drawn into scandal</td>\n      <td>The difference between men and women</td>\n      <td>Sara Denver  nurse turned solicitor</td>\n      <td>Diana s landmine crusade put Tories in a panic</td>\n      <td>Yeltsin s resignation caught opposition flat f...</td>\n      <td>Russian roulette</td>\n      <td>Sold out</td>\n      <td>Recovering a title</td>\n    </tr>\n    <tr>\n      <th>1</th>\n      <td>Scorecard</td>\n      <td>The best lake scene</td>\n      <td>Leader  German sleaze inquiry</td>\n      <td>Cheerio  boyo</td>\n      <td>The main recommendations</td>\n      <td>Has Cubie killed fees</td>\n      <td>Has Cubie killed fees</td>\n      <td>Has Cubie killed fees</td>\n      <td>Hopkins  furious  at Foster s lack of Hannibal...</td>\n      <td>Has Cubie killed fees</td>\n      <td>A tale of two tails</td>\n      <td>I say what I like and I like what I say</td>\n      <td>Elbows  Eyes and Nipples</td>\n      <td>Task force to assess risk of asteroid collision</td>\n      <td>How I found myself at last</td>\n      <td>On the critical list</td>\n      <td>The timing of their lives</td>\n      <td>Dear doctor</td>\n      <td>Irish court halts IRA man s extradition to Nor...</td>\n      <td>Burundi peace initiative fades after rebels re...</td>\n      <td>PE points the way forward to the ECB</td>\n      <td>Campaigners keep up pressure on Nazi war crime...</td>\n      <td>Jane Ratcliffe</td>\n      <td>Yet more things you wouldn t know without the ...</td>\n      <td>Millennium bug fails to bite</td>\n    </tr>\n    <tr>\n      <th>2</th>\n      <td>Coventry caught on counter by Flo</td>\n      <td>United s rivals on the road to Rio</td>\n      <td>Thatcher issues defence before trial by video</td>\n      <td>Police help Smith lay down the law at Everton</td>\n      <td>Tale of Trautmann bears two more retellings</td>\n      <td>England on the rack</td>\n      <td>Pakistan retaliate with call for video of Walsh</td>\n      <td>Cullinan continues his Cape monopoly</td>\n      <td>McGrath puts India out of their misery</td>\n      <td>Blair Witch bandwagon rolls on</td>\n      <td>Pele turns up heat on Ferguson</td>\n      <td>Party divided over Kohl slush fund scandal</td>\n      <td>Manchester United  England</td>\n      <td>Women in record South Pole walk</td>\n      <td>Vasco da Gama  Brazil</td>\n      <td>South Melbourne  Australia</td>\n      <td>Necaxa  Mexico</td>\n      <td>Real Madrid  Spain</td>\n      <td>Raja Casablanca  Morocco</td>\n      <td>Corinthians  Brazil</td>\n      <td>Tony s pet project</td>\n      <td>Al Nassr  Saudi Arabia</td>\n      <td>Ideal Holmes show</td>\n      <td>Pinochet leaves hospital after tests</td>\n      <td>Useful links</td>\n    </tr>\n    <tr>\n      <th>3</th>\n      <td>Pilgrim knows how to progress</td>\n      <td>Thatcher facing ban</td>\n      <td>McIlroy calls for Irish fighting spirit</td>\n      <td>Leicester bin stadium blueprint</td>\n      <td>United braced for Mexican wave</td>\n      <td>Auntie back in fashion  even if the dress look...</td>\n      <td>Shoaib appeal goes to the top</td>\n      <td>Hussain hurt by  shambles  but lays blame on e...</td>\n      <td>England s decade of disasters</td>\n      <td>Revenge is sweet for jubilant Cronje</td>\n      <td>Our choice  not theirs</td>\n      <td>Profile of former US Nazi Party officer Willia...</td>\n      <td>New evidence shows record of war crimes suspec...</td>\n      <td>The rise of the supernerds</td>\n      <td>Written on the body</td>\n      <td>Putin admits Yeltsin quit to give him a head s...</td>\n      <td>BBC worst hit as digital TV begins to bite</td>\n      <td>How much can you pay for</td>\n      <td>Christmas glitches</td>\n      <td>Upending a table  Chopping a line and Scoring ...</td>\n      <td>Scientific evidence  unreliable   defence claims</td>\n      <td>Fusco wins judicial review in extradition case</td>\n      <td>Rebels thwart Russian advance</td>\n      <td>Blair orders shake up of failing NHS</td>\n      <td>Lessons of law s hard heart</td>\n    </tr>\n    <tr>\n      <th>4</th>\n      <td>Hitches and Horlocks</td>\n      <td>Beckham off but United survive</td>\n      <td>Breast cancer screening</td>\n      <td>Alan Parker</td>\n      <td>Guardian readers  are you all whingers</td>\n      <td>Hollywood Beyond</td>\n      <td>Ashes and diamonds</td>\n      <td>Whingers   a formidable minority</td>\n      <td>Alan Parker   part two</td>\n      <td>Thuggery  Toxins and Ties</td>\n      <td>Met faces fresh attack on race crime</td>\n      <td>Everton fans top racist  league of shame</td>\n      <td>Our breasts  ourselves</td>\n      <td>Russia s new boss has an extremely strange his...</td>\n      <td>Always and forever</td>\n      <td>Most everywhere   UDIs</td>\n      <td>Most wanted   Chloe lunettes</td>\n      <td>Return of the cane  completely off the agenda</td>\n      <td>From Sleepy Hollow to Greeneland</td>\n      <td>Blunkett outlines vision for over   s</td>\n      <td>Embattled Dobson attacks  play now  pay later ...</td>\n      <td>Doom and the Dome</td>\n      <td>What is the north south divide</td>\n      <td>Aitken released from jail</td>\n      <td>Gone aloft</td>\n    </tr>\n  </tbody>\n</table>\n</div>"
     },
     "metadata": {},
     "execution_count": 11
    }
   ],
   "source": [
    "data.head(5)"
   ]
  },
  {
   "cell_type": "code",
   "execution_count": 12,
   "metadata": {},
   "outputs": [],
   "source": [
    "# converting headlines to lowercase\n",
    "for col in new_cols:\n",
    "    data[col] = data[col].str.lower()"
   ]
  },
  {
   "cell_type": "code",
   "execution_count": 13,
   "metadata": {},
   "outputs": [
    {
     "output_type": "execute_result",
     "data": {
      "text/plain": [
       "                                                   0  ...                            24\n",
       "0  a  hindrance to operations   extracts from the...  ...            recovering a title\n",
       "1                                          scorecard  ...  millennium bug fails to bite\n",
       "2                  coventry caught on counter by flo  ...                  useful links\n",
       "3                      pilgrim knows how to progress  ...   lessons of law s hard heart\n",
       "4                               hitches and horlocks  ...                    gone aloft\n",
       "\n",
       "[5 rows x 25 columns]"
      ],
      "text/html": "<div>\n<style scoped>\n    .dataframe tbody tr th:only-of-type {\n        vertical-align: middle;\n    }\n\n    .dataframe tbody tr th {\n        vertical-align: top;\n    }\n\n    .dataframe thead th {\n        text-align: right;\n    }\n</style>\n<table border=\"1\" class=\"dataframe\">\n  <thead>\n    <tr style=\"text-align: right;\">\n      <th></th>\n      <th>0</th>\n      <th>1</th>\n      <th>2</th>\n      <th>3</th>\n      <th>4</th>\n      <th>5</th>\n      <th>6</th>\n      <th>7</th>\n      <th>8</th>\n      <th>9</th>\n      <th>10</th>\n      <th>11</th>\n      <th>12</th>\n      <th>13</th>\n      <th>14</th>\n      <th>15</th>\n      <th>16</th>\n      <th>17</th>\n      <th>18</th>\n      <th>19</th>\n      <th>20</th>\n      <th>21</th>\n      <th>22</th>\n      <th>23</th>\n      <th>24</th>\n    </tr>\n  </thead>\n  <tbody>\n    <tr>\n      <th>0</th>\n      <td>a  hindrance to operations   extracts from the...</td>\n      <td>scorecard</td>\n      <td>hughes  instant hit buoys blues</td>\n      <td>jack gets his skates on at ice cold alex</td>\n      <td>chaos as maracana builds up for united</td>\n      <td>depleted leicester prevail as elliott spoils e...</td>\n      <td>hungry spurs sense rich pickings</td>\n      <td>gunners so wide of an easy target</td>\n      <td>derby raise a glass to strupar s debut double</td>\n      <td>southgate strikes  leeds pay the penalty</td>\n      <td>hammers hand robson a youthful lesson</td>\n      <td>saints party like it s</td>\n      <td>wear wolves have turned into lambs</td>\n      <td>stump mike catches testy gough s taunt</td>\n      <td>langer escapes to hit</td>\n      <td>flintoff injury piles on woe for england</td>\n      <td>hunters threaten jospin with new battle of the...</td>\n      <td>kohl s successor drawn into scandal</td>\n      <td>the difference between men and women</td>\n      <td>sara denver  nurse turned solicitor</td>\n      <td>diana s landmine crusade put tories in a panic</td>\n      <td>yeltsin s resignation caught opposition flat f...</td>\n      <td>russian roulette</td>\n      <td>sold out</td>\n      <td>recovering a title</td>\n    </tr>\n    <tr>\n      <th>1</th>\n      <td>scorecard</td>\n      <td>the best lake scene</td>\n      <td>leader  german sleaze inquiry</td>\n      <td>cheerio  boyo</td>\n      <td>the main recommendations</td>\n      <td>has cubie killed fees</td>\n      <td>has cubie killed fees</td>\n      <td>has cubie killed fees</td>\n      <td>hopkins  furious  at foster s lack of hannibal...</td>\n      <td>has cubie killed fees</td>\n      <td>a tale of two tails</td>\n      <td>i say what i like and i like what i say</td>\n      <td>elbows  eyes and nipples</td>\n      <td>task force to assess risk of asteroid collision</td>\n      <td>how i found myself at last</td>\n      <td>on the critical list</td>\n      <td>the timing of their lives</td>\n      <td>dear doctor</td>\n      <td>irish court halts ira man s extradition to nor...</td>\n      <td>burundi peace initiative fades after rebels re...</td>\n      <td>pe points the way forward to the ecb</td>\n      <td>campaigners keep up pressure on nazi war crime...</td>\n      <td>jane ratcliffe</td>\n      <td>yet more things you wouldn t know without the ...</td>\n      <td>millennium bug fails to bite</td>\n    </tr>\n    <tr>\n      <th>2</th>\n      <td>coventry caught on counter by flo</td>\n      <td>united s rivals on the road to rio</td>\n      <td>thatcher issues defence before trial by video</td>\n      <td>police help smith lay down the law at everton</td>\n      <td>tale of trautmann bears two more retellings</td>\n      <td>england on the rack</td>\n      <td>pakistan retaliate with call for video of walsh</td>\n      <td>cullinan continues his cape monopoly</td>\n      <td>mcgrath puts india out of their misery</td>\n      <td>blair witch bandwagon rolls on</td>\n      <td>pele turns up heat on ferguson</td>\n      <td>party divided over kohl slush fund scandal</td>\n      <td>manchester united  england</td>\n      <td>women in record south pole walk</td>\n      <td>vasco da gama  brazil</td>\n      <td>south melbourne  australia</td>\n      <td>necaxa  mexico</td>\n      <td>real madrid  spain</td>\n      <td>raja casablanca  morocco</td>\n      <td>corinthians  brazil</td>\n      <td>tony s pet project</td>\n      <td>al nassr  saudi arabia</td>\n      <td>ideal holmes show</td>\n      <td>pinochet leaves hospital after tests</td>\n      <td>useful links</td>\n    </tr>\n    <tr>\n      <th>3</th>\n      <td>pilgrim knows how to progress</td>\n      <td>thatcher facing ban</td>\n      <td>mcilroy calls for irish fighting spirit</td>\n      <td>leicester bin stadium blueprint</td>\n      <td>united braced for mexican wave</td>\n      <td>auntie back in fashion  even if the dress look...</td>\n      <td>shoaib appeal goes to the top</td>\n      <td>hussain hurt by  shambles  but lays blame on e...</td>\n      <td>england s decade of disasters</td>\n      <td>revenge is sweet for jubilant cronje</td>\n      <td>our choice  not theirs</td>\n      <td>profile of former us nazi party officer willia...</td>\n      <td>new evidence shows record of war crimes suspec...</td>\n      <td>the rise of the supernerds</td>\n      <td>written on the body</td>\n      <td>putin admits yeltsin quit to give him a head s...</td>\n      <td>bbc worst hit as digital tv begins to bite</td>\n      <td>how much can you pay for</td>\n      <td>christmas glitches</td>\n      <td>upending a table  chopping a line and scoring ...</td>\n      <td>scientific evidence  unreliable   defence claims</td>\n      <td>fusco wins judicial review in extradition case</td>\n      <td>rebels thwart russian advance</td>\n      <td>blair orders shake up of failing nhs</td>\n      <td>lessons of law s hard heart</td>\n    </tr>\n    <tr>\n      <th>4</th>\n      <td>hitches and horlocks</td>\n      <td>beckham off but united survive</td>\n      <td>breast cancer screening</td>\n      <td>alan parker</td>\n      <td>guardian readers  are you all whingers</td>\n      <td>hollywood beyond</td>\n      <td>ashes and diamonds</td>\n      <td>whingers   a formidable minority</td>\n      <td>alan parker   part two</td>\n      <td>thuggery  toxins and ties</td>\n      <td>met faces fresh attack on race crime</td>\n      <td>everton fans top racist  league of shame</td>\n      <td>our breasts  ourselves</td>\n      <td>russia s new boss has an extremely strange his...</td>\n      <td>always and forever</td>\n      <td>most everywhere   udis</td>\n      <td>most wanted   chloe lunettes</td>\n      <td>return of the cane  completely off the agenda</td>\n      <td>from sleepy hollow to greeneland</td>\n      <td>blunkett outlines vision for over   s</td>\n      <td>embattled dobson attacks  play now  pay later ...</td>\n      <td>doom and the dome</td>\n      <td>what is the north south divide</td>\n      <td>aitken released from jail</td>\n      <td>gone aloft</td>\n    </tr>\n  </tbody>\n</table>\n</div>"
     },
     "metadata": {},
     "execution_count": 13
    }
   ],
   "source": [
    "data.head()"
   ]
  },
  {
   "cell_type": "code",
   "execution_count": 14,
   "metadata": {},
   "outputs": [],
   "source": [
    "# combining all the headlines to one paragraph\n",
    "headlines = []\n",
    "for row in range(0, len(data.index)):\n",
    "    headlines.append(' '.join(str(x) for x in data.iloc[row, 0:25] ))"
   ]
  },
  {
   "cell_type": "code",
   "execution_count": 15,
   "metadata": {},
   "outputs": [
    {
     "output_type": "execute_result",
     "data": {
      "text/plain": [
       "'a  hindrance to operations   extracts from the leaked reports scorecard hughes  instant hit buoys blues jack gets his skates on at ice cold alex chaos as maracana builds up for united depleted leicester prevail as elliott spoils everton s party hungry spurs sense rich pickings gunners so wide of an easy target derby raise a glass to strupar s debut double southgate strikes  leeds pay the penalty hammers hand robson a youthful lesson saints party like it s      wear wolves have turned into lambs stump mike catches testy gough s taunt langer escapes to hit     flintoff injury piles on woe for england hunters threaten jospin with new battle of the somme kohl s successor drawn into scandal the difference between men and women sara denver  nurse turned solicitor diana s landmine crusade put tories in a panic yeltsin s resignation caught opposition flat footed russian roulette sold out recovering a title'"
      ],
      "application/vnd.google.colaboratory.intrinsic+json": {
       "type": "string"
      }
     },
     "metadata": {},
     "execution_count": 15
    }
   ],
   "source": [
    "headlines[0]"
   ]
  },
  {
   "source": [
    "### Building the model"
   ],
   "cell_type": "markdown",
   "metadata": {}
  },
  {
   "cell_type": "code",
   "execution_count": 19,
   "metadata": {},
   "outputs": [],
   "source": [
    "from sklearn.feature_extraction.text import CountVectorizer\n",
    "from sklearn.ensemble import RandomForestClassifier\n",
    "from sklearn.linear_model import LogisticRegression\n",
    "from sklearn.naive_bayes import GaussianNB, MultinomialNB \n",
    "from sklearn.metrics import classification_report, confusion_matrix, accuracy_score"
   ]
  },
  {
   "source": [
    "Let's write some utility functions"
   ],
   "cell_type": "markdown",
   "metadata": {}
  },
  {
   "cell_type": "code",
   "execution_count": 20,
   "metadata": {},
   "outputs": [],
   "source": [
    "def build_model(X_train, y_train, X_test, y_test):\n",
    "\n",
    "    models = {\n",
    "        \"rf\": RandomForestClassifier(n_jobs=-1),\n",
    "        \"lr\": LogisticRegression(),\n",
    "        \"mnb\": MultinomialNB()\n",
    "    }\n",
    "\n",
    "    for model in models:\n",
    "        model = models[model]\n",
    "        model.fit(X_train, y_train)\n",
    "\n",
    "        predictions = model.predict(X_test)\n",
    "        \n",
    "        print(f\"Model: {model}\")\n",
    "        print(accuracy_score(y_test, predictions))\n",
    "        print(confusion_matrix(y_test, predictions))\n",
    "        print(classification_report(y_test, predictions))\n",
    "\n",
    "        print(\"=\"*100)\n",
    "\n",
    "\n",
    "    "
   ]
  },
  {
   "source": [
    "### Bag of words\n",
    "Let's first start with a simple bag of words model\n",
    "\n"
   ],
   "cell_type": "markdown",
   "metadata": {}
  },
  {
   "cell_type": "code",
   "execution_count": 21,
   "metadata": {},
   "outputs": [],
   "source": [
    "# implement bag of words\n",
    "countvector = CountVectorizer(ngram_range=(2,2))\n",
    "X_train = countvector.fit_transform(headlines)"
   ]
  },
  {
   "cell_type": "code",
   "execution_count": 22,
   "metadata": {},
   "outputs": [],
   "source": [
    "y_train = train['Label']\n",
    "\n",
    "test_transform = []\n",
    "for row in range(0, len(test.index)):\n",
    "    test_transform.append(' '.join(str(x) for x in test.iloc[row, 2:27]))\n",
    "\n",
    "X_test = countvector.transform(test_transform)\n",
    "y_test = test['Label']"
   ]
  },
  {
   "cell_type": "code",
   "execution_count": 23,
   "metadata": {},
   "outputs": [
    {
     "output_type": "stream",
     "name": "stdout",
     "text": [
      "Model: RandomForestClassifier(bootstrap=True, ccp_alpha=0.0, class_weight=None,\n",
      "                       criterion='gini', max_depth=None, max_features='auto',\n",
      "                       max_leaf_nodes=None, max_samples=None,\n",
      "                       min_impurity_decrease=0.0, min_impurity_split=None,\n",
      "                       min_samples_leaf=1, min_samples_split=2,\n",
      "                       min_weight_fraction_leaf=0.0, n_estimators=100,\n",
      "                       n_jobs=-1, oob_score=False, random_state=None, verbose=0,\n",
      "                       warm_start=False)\n",
      "0.8597883597883598\n",
      "[[137  49]\n",
      " [  4 188]]\n",
      "              precision    recall  f1-score   support\n",
      "\n",
      "           0       0.97      0.74      0.84       186\n",
      "           1       0.79      0.98      0.88       192\n",
      "\n",
      "    accuracy                           0.86       378\n",
      "   macro avg       0.88      0.86      0.86       378\n",
      "weighted avg       0.88      0.86      0.86       378\n",
      "\n",
      "====================================================================================================\n",
      "Model: LogisticRegression(C=1.0, class_weight=None, dual=False, fit_intercept=True,\n",
      "                   intercept_scaling=1, l1_ratio=None, max_iter=100,\n",
      "                   multi_class='auto', n_jobs=None, penalty='l2',\n",
      "                   random_state=None, solver='lbfgs', tol=0.0001, verbose=0,\n",
      "                   warm_start=False)\n",
      "0.8571428571428571\n",
      "[[159  27]\n",
      " [ 27 165]]\n",
      "              precision    recall  f1-score   support\n",
      "\n",
      "           0       0.85      0.85      0.85       186\n",
      "           1       0.86      0.86      0.86       192\n",
      "\n",
      "    accuracy                           0.86       378\n",
      "   macro avg       0.86      0.86      0.86       378\n",
      "weighted avg       0.86      0.86      0.86       378\n",
      "\n",
      "====================================================================================================\n",
      "Model: MultinomialNB(alpha=1.0, class_prior=None, fit_prior=True)\n",
      "0.8465608465608465\n",
      "[[138  48]\n",
      " [ 10 182]]\n",
      "              precision    recall  f1-score   support\n",
      "\n",
      "           0       0.93      0.74      0.83       186\n",
      "           1       0.79      0.95      0.86       192\n",
      "\n",
      "    accuracy                           0.85       378\n",
      "   macro avg       0.86      0.84      0.84       378\n",
      "weighted avg       0.86      0.85      0.84       378\n",
      "\n",
      "====================================================================================================\n"
     ]
    }
   ],
   "source": [
    "build_model(X_train, y_train, X_test, y_test)"
   ]
  },
  {
   "source": [
    "### TF-IDF"
   ],
   "cell_type": "markdown",
   "metadata": {}
  },
  {
   "cell_type": "code",
   "execution_count": 24,
   "metadata": {},
   "outputs": [],
   "source": [
    "from sklearn.feature_extraction.text import TfidfVectorizer\n",
    "\n",
    "tfidf = TfidfVectorizer()\n",
    "X_train = tfidf.fit_transform(headlines).toarray()"
   ]
  },
  {
   "cell_type": "code",
   "execution_count": 25,
   "metadata": {},
   "outputs": [],
   "source": [
    "test_transform = []\n",
    "for row in range(0, len(test.index)):\n",
    "    test_transform.append(' '.join(str(x) for x in test.iloc[row, 2:27]))\n",
    "\n",
    "X_test = tfidf.transform(test_transform)"
   ]
  },
  {
   "cell_type": "code",
   "execution_count": 26,
   "metadata": {},
   "outputs": [
    {
     "output_type": "stream",
     "name": "stdout",
     "text": [
      "Model: RandomForestClassifier(bootstrap=True, ccp_alpha=0.0, class_weight=None,\n",
      "                       criterion='gini', max_depth=None, max_features='auto',\n",
      "                       max_leaf_nodes=None, max_samples=None,\n",
      "                       min_impurity_decrease=0.0, min_impurity_split=None,\n",
      "                       min_samples_leaf=1, min_samples_split=2,\n",
      "                       min_weight_fraction_leaf=0.0, n_estimators=100,\n",
      "                       n_jobs=-1, oob_score=False, random_state=None, verbose=0,\n",
      "                       warm_start=False)\n",
      "0.8465608465608465\n",
      "[[145  41]\n",
      " [ 17 175]]\n",
      "              precision    recall  f1-score   support\n",
      "\n",
      "           0       0.90      0.78      0.83       186\n",
      "           1       0.81      0.91      0.86       192\n",
      "\n",
      "    accuracy                           0.85       378\n",
      "   macro avg       0.85      0.85      0.85       378\n",
      "weighted avg       0.85      0.85      0.85       378\n",
      "\n",
      "====================================================================================================\n",
      "Model: LogisticRegression(C=1.0, class_weight=None, dual=False, fit_intercept=True,\n",
      "                   intercept_scaling=1, l1_ratio=None, max_iter=100,\n",
      "                   multi_class='auto', n_jobs=None, penalty='l2',\n",
      "                   random_state=None, solver='lbfgs', tol=0.0001, verbose=0,\n",
      "                   warm_start=False)\n",
      "0.8015873015873016\n",
      "[[125  61]\n",
      " [ 14 178]]\n",
      "              precision    recall  f1-score   support\n",
      "\n",
      "           0       0.90      0.67      0.77       186\n",
      "           1       0.74      0.93      0.83       192\n",
      "\n",
      "    accuracy                           0.80       378\n",
      "   macro avg       0.82      0.80      0.80       378\n",
      "weighted avg       0.82      0.80      0.80       378\n",
      "\n",
      "====================================================================================================\n",
      "Model: MultinomialNB(alpha=1.0, class_prior=None, fit_prior=True)\n",
      "0.5079365079365079\n",
      "[[  0 186]\n",
      " [  0 192]]\n",
      "              precision    recall  f1-score   support\n",
      "\n",
      "           0       0.00      0.00      0.00       186\n",
      "           1       0.51      1.00      0.67       192\n",
      "\n",
      "    accuracy                           0.51       378\n",
      "   macro avg       0.25      0.50      0.34       378\n",
      "weighted avg       0.26      0.51      0.34       378\n",
      "\n",
      "====================================================================================================\n",
      "/usr/local/lib/python3.7/dist-packages/sklearn/metrics/_classification.py:1272: UndefinedMetricWarning: Precision and F-score are ill-defined and being set to 0.0 in labels with no predicted samples. Use `zero_division` parameter to control this behavior.\n",
      "  _warn_prf(average, modifier, msg_start, len(result))\n"
     ]
    }
   ],
   "source": [
    "build_model(X_train, y_train, X_test, y_test)"
   ]
  }
 ]
}