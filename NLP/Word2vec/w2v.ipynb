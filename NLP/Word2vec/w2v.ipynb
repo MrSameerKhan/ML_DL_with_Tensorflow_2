{
  "nbformat": 4,
  "nbformat_minor": 0,
  "metadata": {
    "orig_nbformat": 2,
    "kernelspec": {
      "name": "python3",
      "display_name": "Python 3"
    },
    "metadata": {
      "interpreter": {
        "hash": "5b5abe7e63058852b6f85d1ed91a74ea0f7432f2265137655556c81ff9a58417"
      }
    },
    "colab": {
      "name": "w2v.ipynb",
      "provenance": [],
      "toc_visible": true,
      "include_colab_link": true
    },
    "language_info": {
      "name": "python"
    }
  },
  "cells": [
    {
      "cell_type": "markdown",
      "metadata": {
        "id": "view-in-github",
        "colab_type": "text"
      },
      "source": [
        "<a href=\"https://colab.research.google.com/github/Gladiator07/Natural-Language-Processing/blob/main/Basics/Word2vec/w2v.ipynb\" target=\"_parent\"><img src=\"https://colab.research.google.com/assets/colab-badge.svg\" alt=\"Open In Colab\"/></a>"
      ]
    },
    {
      "cell_type": "markdown",
      "metadata": {
        "id": "YTFRnpCVDAkK"
      },
      "source": [
        "## Gensim Word2Vectors"
      ]
    },
    {
      "cell_type": "markdown",
      "metadata": {
        "id": "5s_C9-YhGhRQ"
      },
      "source": [
        "## Training a word2vec model\n"
      ]
    },
    {
      "cell_type": "markdown",
      "metadata": {
        "id": "cSFdzmtaGk4W"
      },
      "source": [
        "First, let's see how to train a model on the text you have. The text maybe from crawled webpages, newspaper, or anything. Here, we will consider a speech data"
      ]
    },
    {
      "cell_type": "code",
      "metadata": {
        "id": "7GTeEot0C-NA",
        "colab": {
          "base_uri": "https://localhost:8080/"
        },
        "outputId": "5763ddb0-83f6-47ba-c4ce-dd115b6d94c2"
      },
      "source": [
        "import re\n",
        "import nltk\n",
        "nltk.download('punkt')\n",
        "nltk.download('stopwords')\n",
        "\n",
        "from nltk.corpus import stopwords\n",
        "from gensim.models import Word2Vec"
      ],
      "execution_count": 1,
      "outputs": [
        {
          "output_type": "stream",
          "text": [
            "[nltk_data] Downloading package punkt to /root/nltk_data...\n",
            "[nltk_data]   Unzipping tokenizers/punkt.zip.\n",
            "[nltk_data] Downloading package stopwords to /root/nltk_data...\n",
            "[nltk_data]   Unzipping corpora/stopwords.zip.\n"
          ],
          "name": "stdout"
        }
      ]
    },
    {
      "cell_type": "code",
      "metadata": {
        "id": "wW0IwfqHC-NC"
      },
      "source": [
        "paragraph = \"\"\"I have three visions for India. In 3000 years of our history, people from all over \n",
        "               the world have come and invaded us, captured our lands, conquered our minds. \n",
        "               From Alexander onwards, the Greeks, the Turks, the Moguls, the Portuguese, the British,\n",
        "               the French, the Dutch, all of them came and looted us, took over what was ours. \n",
        "               Yet we have not done this to any other nation. We have not conquered anyone. \n",
        "               We have not grabbed their land, their culture, \n",
        "               their history and tried to enforce our way of life on them. \n",
        "               Why? Because we respect the freedom of others.That is why my \n",
        "               first vision is that of freedom. I believe that India got its first vision of \n",
        "               this in 1857, when we started the War of Independence. It is this freedom that\n",
        "               we must protect and nurture and build on. If we are not free, no one will respect us.\n",
        "               My second vision for India’s development. For fifty years we have been a developing nation.\n",
        "               It is time we see ourselves as a developed nation. We are among the top 5 nations of the world\n",
        "               in terms of GDP. We have a 10 percent growth rate in most areas. Our poverty levels are falling.\n",
        "               Our achievements are being globally recognised today. Yet we lack the self-confidence to\n",
        "               see ourselves as a developed nation, self-reliant and self-assured. Isn’t this incorrect?\n",
        "               I have a third vision. India must stand up to the world. Because I believe that unless India \n",
        "               stands up to the world, no one will respect us. Only strength respects strength. We must be \n",
        "               strong not only as a military power but also as an economic power. Both must go hand-in-hand. \n",
        "               My good fortune was to have worked with three great minds. Dr. Vikram Sarabhai of the Dept. of \n",
        "               space, Professor Satish Dhawan, who succeeded him and Dr. Brahm Prakash, father of nuclear material.\n",
        "               I was lucky to have worked with all three of them closely and consider this the great opportunity of my life. \n",
        "               I see four milestones in my career\"\"\""
      ],
      "execution_count": 2,
      "outputs": []
    },
    {
      "cell_type": "code",
      "metadata": {
        "id": "7ExxklV-G_xs"
      },
      "source": [
        "# Preprocessing the data\n",
        "text = re.sub(r'\\[[0-9]*\\]',' ',paragraph)\n",
        "text = re.sub(r'\\s+',' ',text)\n",
        "text = text.lower()\n",
        "text = re.sub(r'\\d',' ',text)\n",
        "text = re.sub(r'\\s+',' ',text)"
      ],
      "execution_count": 3,
      "outputs": []
    },
    {
      "cell_type": "code",
      "metadata": {
        "id": "oWL_hPewHB-Q"
      },
      "source": [
        "# preparing the dataset\n",
        "sentences = nltk.sent_tokenize(text)\n",
        "\n",
        "sentences = [nltk.word_tokenize(sentence) for sentence in sentences]\n",
        "\n",
        "for i in range(len(sentences)):\n",
        "    sentences[i] = [word for word in sentences[i] if word not in stopwords.words('english')]"
      ],
      "execution_count": 4,
      "outputs": []
    },
    {
      "cell_type": "code",
      "metadata": {
        "id": "OVv2GNYGHZbL"
      },
      "source": [
        "# training the word2vec model\n",
        "model = Word2Vec(sentences, min_count=1)\n",
        "\n",
        "# min_count ==> ignore all words with total frequency lower than this"
      ],
      "execution_count": 5,
      "outputs": []
    },
    {
      "cell_type": "code",
      "metadata": {
        "id": "tSojsMijH70Q"
      },
      "source": [
        "words = model.wv.vocab"
      ],
      "execution_count": 6,
      "outputs": []
    },
    {
      "cell_type": "code",
      "metadata": {
        "id": "6saONYtVIDGt",
        "colab": {
          "base_uri": "https://localhost:8080/"
        },
        "outputId": "0319dd32-9086-4b04-acf1-985f47ddedf8"
      },
      "source": [
        "words"
      ],
      "execution_count": 7,
      "outputs": [
        {
          "output_type": "execute_result",
          "data": {
            "text/plain": [
              "{',': <gensim.models.keyedvectors.Vocab at 0x7f2164d00c10>,\n",
              " '.': <gensim.models.keyedvectors.Vocab at 0x7f2164e97a10>,\n",
              " '?': <gensim.models.keyedvectors.Vocab at 0x7f2164d03950>,\n",
              " 'achievements': <gensim.models.keyedvectors.Vocab at 0x7f2164cff410>,\n",
              " 'alexander': <gensim.models.keyedvectors.Vocab at 0x7f2164d00ed0>,\n",
              " 'also': <gensim.models.keyedvectors.Vocab at 0x7f2164cffe10>,\n",
              " 'among': <gensim.models.keyedvectors.Vocab at 0x7f2164cffd90>,\n",
              " 'anyone': <gensim.models.keyedvectors.Vocab at 0x7f2164d00510>,\n",
              " 'areas': <gensim.models.keyedvectors.Vocab at 0x7f2164cff450>,\n",
              " 'believe': <gensim.models.keyedvectors.Vocab at 0x7f2164d03d90>,\n",
              " 'brahm': <gensim.models.keyedvectors.Vocab at 0x7f2164cfb5d0>,\n",
              " 'british': <gensim.models.keyedvectors.Vocab at 0x7f2164d00d90>,\n",
              " 'build': <gensim.models.keyedvectors.Vocab at 0x7f2164d03250>,\n",
              " 'came': <gensim.models.keyedvectors.Vocab at 0x7f2164d00290>,\n",
              " 'captured': <gensim.models.keyedvectors.Vocab at 0x7f2164d00d50>,\n",
              " 'career': <gensim.models.keyedvectors.Vocab at 0x7f2164cfbf10>,\n",
              " 'closely': <gensim.models.keyedvectors.Vocab at 0x7f2164cfbb50>,\n",
              " 'come': <gensim.models.keyedvectors.Vocab at 0x7f2164d00a90>,\n",
              " 'conquered': <gensim.models.keyedvectors.Vocab at 0x7f2164d00e10>,\n",
              " 'consider': <gensim.models.keyedvectors.Vocab at 0x7f2164cfbbd0>,\n",
              " 'culture': <gensim.models.keyedvectors.Vocab at 0x7f2164d00690>,\n",
              " 'dept': <gensim.models.keyedvectors.Vocab at 0x7f2164cfb410>,\n",
              " 'developed': <gensim.models.keyedvectors.Vocab at 0x7f2164d03650>,\n",
              " 'developing': <gensim.models.keyedvectors.Vocab at 0x7f2164d03210>,\n",
              " 'development': <gensim.models.keyedvectors.Vocab at 0x7f2164d03350>,\n",
              " 'dhawan': <gensim.models.keyedvectors.Vocab at 0x7f2164cfbf50>,\n",
              " 'done': <gensim.models.keyedvectors.Vocab at 0x7f2164d00610>,\n",
              " 'dr.': <gensim.models.keyedvectors.Vocab at 0x7f2164cffbd0>,\n",
              " 'dutch': <gensim.models.keyedvectors.Vocab at 0x7f2164d00910>,\n",
              " 'economic': <gensim.models.keyedvectors.Vocab at 0x7f2164cffb10>,\n",
              " 'enforce': <gensim.models.keyedvectors.Vocab at 0x7f2164d00710>,\n",
              " 'falling': <gensim.models.keyedvectors.Vocab at 0x7f2164cff3d0>,\n",
              " 'father': <gensim.models.keyedvectors.Vocab at 0x7f2164cfbc90>,\n",
              " 'fifty': <gensim.models.keyedvectors.Vocab at 0x7f2164d03450>,\n",
              " 'first': <gensim.models.keyedvectors.Vocab at 0x7f2164d035d0>,\n",
              " 'fortune': <gensim.models.keyedvectors.Vocab at 0x7f2164cff810>,\n",
              " 'four': <gensim.models.keyedvectors.Vocab at 0x7f2164cfb7d0>,\n",
              " 'free': <gensim.models.keyedvectors.Vocab at 0x7f2164d03f50>,\n",
              " 'freedom': <gensim.models.keyedvectors.Vocab at 0x7f2164d03b10>,\n",
              " 'french': <gensim.models.keyedvectors.Vocab at 0x7f2164d00450>,\n",
              " 'gdp': <gensim.models.keyedvectors.Vocab at 0x7f2164cffdd0>,\n",
              " 'globally': <gensim.models.keyedvectors.Vocab at 0x7f2164cfffd0>,\n",
              " 'go': <gensim.models.keyedvectors.Vocab at 0x7f2164cff750>,\n",
              " 'good': <gensim.models.keyedvectors.Vocab at 0x7f2164cffa10>,\n",
              " 'got': <gensim.models.keyedvectors.Vocab at 0x7f2164d03810>,\n",
              " 'grabbed': <gensim.models.keyedvectors.Vocab at 0x7f2164d001d0>,\n",
              " 'great': <gensim.models.keyedvectors.Vocab at 0x7f2164cff790>,\n",
              " 'greeks': <gensim.models.keyedvectors.Vocab at 0x7f2164d00b90>,\n",
              " 'growth': <gensim.models.keyedvectors.Vocab at 0x7f2164cff250>,\n",
              " 'hand-in-hand': <gensim.models.keyedvectors.Vocab at 0x7f2164cff6d0>,\n",
              " 'history': <gensim.models.keyedvectors.Vocab at 0x7f2164d00a10>,\n",
              " 'incorrect': <gensim.models.keyedvectors.Vocab at 0x7f2164cffb90>,\n",
              " 'independence': <gensim.models.keyedvectors.Vocab at 0x7f2164d03690>,\n",
              " 'india': <gensim.models.keyedvectors.Vocab at 0x7f2164eaed10>,\n",
              " 'invaded': <gensim.models.keyedvectors.Vocab at 0x7f2164d00490>,\n",
              " 'lack': <gensim.models.keyedvectors.Vocab at 0x7f2164cff690>,\n",
              " 'land': <gensim.models.keyedvectors.Vocab at 0x7f2164d003d0>,\n",
              " 'lands': <gensim.models.keyedvectors.Vocab at 0x7f2164d00c90>,\n",
              " 'levels': <gensim.models.keyedvectors.Vocab at 0x7f2164cff2d0>,\n",
              " 'life': <gensim.models.keyedvectors.Vocab at 0x7f2164d030d0>,\n",
              " 'looted': <gensim.models.keyedvectors.Vocab at 0x7f2164d00c50>,\n",
              " 'lucky': <gensim.models.keyedvectors.Vocab at 0x7f2164cfb590>,\n",
              " 'material': <gensim.models.keyedvectors.Vocab at 0x7f2164cfb690>,\n",
              " 'milestones': <gensim.models.keyedvectors.Vocab at 0x7f2164cfb450>,\n",
              " 'military': <gensim.models.keyedvectors.Vocab at 0x7f2164cfff50>,\n",
              " 'minds': <gensim.models.keyedvectors.Vocab at 0x7f2164d00250>,\n",
              " 'moguls': <gensim.models.keyedvectors.Vocab at 0x7f2164d00f90>,\n",
              " 'must': <gensim.models.keyedvectors.Vocab at 0x7f2164d03c10>,\n",
              " 'nation': <gensim.models.keyedvectors.Vocab at 0x7f2164d00890>,\n",
              " 'nations': <gensim.models.keyedvectors.Vocab at 0x7f2164cffb50>,\n",
              " 'nuclear': <gensim.models.keyedvectors.Vocab at 0x7f2164cfbc10>,\n",
              " 'nurture': <gensim.models.keyedvectors.Vocab at 0x7f2164d03790>,\n",
              " 'one': <gensim.models.keyedvectors.Vocab at 0x7f2164d036d0>,\n",
              " 'onwards': <gensim.models.keyedvectors.Vocab at 0x7f2164d00e90>,\n",
              " 'opportunity': <gensim.models.keyedvectors.Vocab at 0x7f2164cfbd90>,\n",
              " 'others.that': <gensim.models.keyedvectors.Vocab at 0x7f2164d031d0>,\n",
              " 'people': <gensim.models.keyedvectors.Vocab at 0x7f2164d00810>,\n",
              " 'percent': <gensim.models.keyedvectors.Vocab at 0x7f2164cff1d0>,\n",
              " 'portuguese': <gensim.models.keyedvectors.Vocab at 0x7f2164d002d0>,\n",
              " 'poverty': <gensim.models.keyedvectors.Vocab at 0x7f2164cff650>,\n",
              " 'power': <gensim.models.keyedvectors.Vocab at 0x7f2164cfff10>,\n",
              " 'prakash': <gensim.models.keyedvectors.Vocab at 0x7f2164cfb8d0>,\n",
              " 'professor': <gensim.models.keyedvectors.Vocab at 0x7f2164cfb550>,\n",
              " 'protect': <gensim.models.keyedvectors.Vocab at 0x7f2164d03b90>,\n",
              " 'rate': <gensim.models.keyedvectors.Vocab at 0x7f2164cff550>,\n",
              " 'recognised': <gensim.models.keyedvectors.Vocab at 0x7f2164cff050>,\n",
              " 'respect': <gensim.models.keyedvectors.Vocab at 0x7f2164d03550>,\n",
              " 'respects': <gensim.models.keyedvectors.Vocab at 0x7f2164cffed0>,\n",
              " 'sarabhai': <gensim.models.keyedvectors.Vocab at 0x7f2164cff210>,\n",
              " 'satish': <gensim.models.keyedvectors.Vocab at 0x7f2164cfbe10>,\n",
              " 'second': <gensim.models.keyedvectors.Vocab at 0x7f2164d032d0>,\n",
              " 'see': <gensim.models.keyedvectors.Vocab at 0x7f2164d03050>,\n",
              " 'self-assured': <gensim.models.keyedvectors.Vocab at 0x7f2164cff510>,\n",
              " 'self-confidence': <gensim.models.keyedvectors.Vocab at 0x7f2164cff150>,\n",
              " 'self-reliant': <gensim.models.keyedvectors.Vocab at 0x7f2164cff290>,\n",
              " 'space': <gensim.models.keyedvectors.Vocab at 0x7f2164cfbf90>,\n",
              " 'stand': <gensim.models.keyedvectors.Vocab at 0x7f2164cffc50>,\n",
              " 'stands': <gensim.models.keyedvectors.Vocab at 0x7f2164cff190>,\n",
              " 'started': <gensim.models.keyedvectors.Vocab at 0x7f2164d03e10>,\n",
              " 'strength': <gensim.models.keyedvectors.Vocab at 0x7f2164cffc90>,\n",
              " 'strong': <gensim.models.keyedvectors.Vocab at 0x7f2164cff4d0>,\n",
              " 'succeeded': <gensim.models.keyedvectors.Vocab at 0x7f2164cfbb10>,\n",
              " 'terms': <gensim.models.keyedvectors.Vocab at 0x7f2164cff990>,\n",
              " 'third': <gensim.models.keyedvectors.Vocab at 0x7f2164cffd10>,\n",
              " 'three': <gensim.models.keyedvectors.Vocab at 0x7f2164eae6d0>,\n",
              " 'time': <gensim.models.keyedvectors.Vocab at 0x7f2164d03a50>,\n",
              " 'today': <gensim.models.keyedvectors.Vocab at 0x7f2164cff310>,\n",
              " 'took': <gensim.models.keyedvectors.Vocab at 0x7f2164d00110>,\n",
              " 'top': <gensim.models.keyedvectors.Vocab at 0x7f2164cff390>,\n",
              " 'tried': <gensim.models.keyedvectors.Vocab at 0x7f2164d00210>,\n",
              " 'turks': <gensim.models.keyedvectors.Vocab at 0x7f2164d00050>,\n",
              " 'unless': <gensim.models.keyedvectors.Vocab at 0x7f2164cff910>,\n",
              " 'us': <gensim.models.keyedvectors.Vocab at 0x7f2164d00fd0>,\n",
              " 'vikram': <gensim.models.keyedvectors.Vocab at 0x7f2164cff610>,\n",
              " 'vision': <gensim.models.keyedvectors.Vocab at 0x7f2164d03590>,\n",
              " 'visions': <gensim.models.keyedvectors.Vocab at 0x7f2164eaee10>,\n",
              " 'war': <gensim.models.keyedvectors.Vocab at 0x7f2164d03e90>,\n",
              " 'way': <gensim.models.keyedvectors.Vocab at 0x7f2164d00750>,\n",
              " 'worked': <gensim.models.keyedvectors.Vocab at 0x7f2164cffa90>,\n",
              " 'world': <gensim.models.keyedvectors.Vocab at 0x7f2164d00550>,\n",
              " 'years': <gensim.models.keyedvectors.Vocab at 0x7f2164d007d0>,\n",
              " 'yet': <gensim.models.keyedvectors.Vocab at 0x7f2164d00350>,\n",
              " '’': <gensim.models.keyedvectors.Vocab at 0x7f2164d03850>}"
            ]
          },
          "metadata": {
            "tags": []
          },
          "execution_count": 7
        }
      ]
    },
    {
      "cell_type": "code",
      "metadata": {
        "id": "9aIuazEoIBSu",
        "colab": {
          "base_uri": "https://localhost:8080/"
        },
        "outputId": "13f9765f-5641-41ec-fc1b-a643d196fa26"
      },
      "source": [
        "# finding word vectors\n",
        "vector = model.wv['war']\n",
        "len(vector)"
      ],
      "execution_count": 8,
      "outputs": [
        {
          "output_type": "execute_result",
          "data": {
            "text/plain": [
              "100"
            ]
          },
          "metadata": {
            "tags": []
          },
          "execution_count": 8
        }
      ]
    },
    {
      "cell_type": "code",
      "metadata": {
        "id": "-_upHpxrILso",
        "colab": {
          "base_uri": "https://localhost:8080/"
        },
        "outputId": "9c3b6bd5-e90e-49b3-868e-1fd52a0d16fe"
      },
      "source": [
        "# most similar words\n",
        "model.wv.most_similar('vikram')"
      ],
      "execution_count": 9,
      "outputs": [
        {
          "output_type": "execute_result",
          "data": {
            "text/plain": [
              "[('anyone', 0.23211625218391418),\n",
              " ('economic', 0.2154756784439087),\n",
              " ('nation', 0.1997736692428589),\n",
              " ('people', 0.1759175807237625),\n",
              " ('material', 0.17537939548492432),\n",
              " ('one', 0.1726606786251068),\n",
              " ('development', 0.16919977962970734),\n",
              " ('respect', 0.16250136494636536),\n",
              " ('areas', 0.15091685950756073),\n",
              " ('power', 0.1494726687669754)]"
            ]
          },
          "metadata": {
            "tags": []
          },
          "execution_count": 9
        }
      ]
    },
    {
      "cell_type": "code",
      "metadata": {
        "id": "iiAWYvVxIbXY",
        "colab": {
          "base_uri": "https://localhost:8080/"
        },
        "outputId": "f6f7eea9-d359-4e55-c149-a0ddaaa9e0d0"
      },
      "source": [
        "model.wv.most_similar('protect')"
      ],
      "execution_count": 10,
      "outputs": [
        {
          "output_type": "execute_result",
          "data": {
            "text/plain": [
              "[('percent', 0.2077595293521881),\n",
              " ('anyone', 0.1918070912361145),\n",
              " ('culture', 0.17498159408569336),\n",
              " ('dhawan', 0.16762061417102814),\n",
              " ('british', 0.16732224822044373),\n",
              " ('also', 0.1610841453075409),\n",
              " ('globally', 0.16072183847427368),\n",
              " ('world', 0.15127117931842804),\n",
              " ('gdp', 0.1509707123041153),\n",
              " ('falling', 0.15032397210597992)]"
            ]
          },
          "metadata": {
            "tags": []
          },
          "execution_count": 10
        }
      ]
    },
    {
      "cell_type": "markdown",
      "metadata": {
        "id": "Jx9WGjetIk_9"
      },
      "source": [
        "This was trained on just a single paragraph. So, don't expect this to be much accurate. But this might have given you a idea that how do we train a model, given a dataset"
      ]
    },
    {
      "cell_type": "code",
      "metadata": {
        "id": "Fh2D-yFaIiXD"
      },
      "source": [
        "# saving the model\n",
        "model.save(\"word2vec.model\")"
      ],
      "execution_count": 11,
      "outputs": []
    },
    {
      "cell_type": "markdown",
      "metadata": {
        "id": "xxjjKtDjiQ8E"
      },
      "source": [
        "If you save the model you can continue training later"
      ]
    },
    {
      "cell_type": "code",
      "metadata": {
        "id": "vje3aupBiQMk",
        "outputId": "c3ca78b1-4ee3-4fe7-8060-f2ab81cbe4a4",
        "colab": {
          "base_uri": "https://localhost:8080/"
        }
      },
      "source": [
        "model = Word2Vec.load(\"word2vec.model\")\n",
        "model.train([[\"hello\", \"world\"]], total_examples=1, epochs=1)"
      ],
      "execution_count": 12,
      "outputs": [
        {
          "output_type": "execute_result",
          "data": {
            "text/plain": [
              "(0, 2)"
            ]
          },
          "metadata": {
            "tags": []
          },
          "execution_count": 12
        }
      ]
    },
    {
      "cell_type": "markdown",
      "metadata": {
        "id": "WdoM3nX2iia3"
      },
      "source": [
        "The trained word vectors are stored in KeyedVectors instance, as model.vw:\n"
      ]
    },
    {
      "cell_type": "code",
      "metadata": {
        "id": "1ZNxoMvdigz3",
        "outputId": "01a8bd99-7b33-43e8-b65d-26a4e73ac0fb",
        "colab": {
          "base_uri": "https://localhost:8080/"
        }
      },
      "source": [
        "vector = model.wv[\"freedom\"]\n",
        "sims = model.wv.most_similar('freedom', topn=10)\n",
        "print(sims)"
      ],
      "execution_count": 15,
      "outputs": [
        {
          "output_type": "stream",
          "text": [
            "[('enforce', 0.2670506536960602), ('dept', 0.22238799929618835), ('sarabhai', 0.20317837595939636), ('today', 0.2017226219177246), ('areas', 0.19843047857284546), ('strong', 0.1935480386018753), ('professor', 0.1670626848936081), ('turks', 0.1620129644870758), ('?', 0.16126951575279236), ('lucky', 0.1596313863992691)]\n"
          ],
          "name": "stdout"
        }
      ]
    },
    {
      "cell_type": "markdown",
      "metadata": {
        "id": "MYPg9dywjBHW"
      },
      "source": [
        "The reason for separating the trained vectors into KeyedVectors is that if you don’t need the full model state any more (don’t need to continue training), its state can discarded, keeping just the vectors and their keys proper.\n",
        "\n",
        "This results in a much smaller and faster object that can be mmapped for lightning fast loading and sharing the vectors in RAM between processes:"
      ]
    },
    {
      "cell_type": "code",
      "metadata": {
        "id": "pPi2HiM5itwx",
        "outputId": "85c6730d-81f9-4b2e-d78b-1d83193ec7b5",
        "colab": {
          "base_uri": "https://localhost:8080/"
        }
      },
      "source": [
        "from gensim.models import KeyedVectors\n",
        "\n",
        "# store just the words + their trained embeddings\n",
        "word_vectors = model.wv\n",
        "word_vectors.save(\"word2vec.wordvectors\")\n",
        "\n",
        "# load back with memory-mapping = read-only, shared across processes\n",
        "wv = KeyedVectors.load(\"word2vec.wordvectors\", mmap='r')\n",
        "\n",
        "vector = wv['free']  # get numpy vector of a word\n",
        "print(vector)"
      ],
      "execution_count": 19,
      "outputs": [
        {
          "output_type": "stream",
          "text": [
            "[-0.00456615 -0.00243256 -0.00080683  0.00473431 -0.00419337 -0.00373844\n",
            " -0.00214053  0.00433179 -0.00479458  0.00187782 -0.00080812 -0.0041776\n",
            "  0.00254457 -0.00151781 -0.00224288 -0.00274347 -0.00058027 -0.00384388\n",
            "  0.00368671 -0.0015281   0.00245251 -0.00105321 -0.00314548  0.00280265\n",
            "  0.00478992 -0.00499142  0.00318914  0.00199495 -0.00147517 -0.00479895\n",
            " -0.00234535 -0.00160369 -0.00144158 -0.0007067   0.00069493 -0.00188146\n",
            "  0.00164087  0.00118216 -0.00332863 -0.00185804  0.00459758 -0.00024809\n",
            " -0.00064682 -0.00388866 -0.00078327  0.00271599 -0.00108013  0.00317218\n",
            "  0.00062021  0.00062944  0.0010101   0.00495333  0.00445647 -0.00432989\n",
            " -0.00491688 -0.00056242  0.00383044  0.00388445 -0.00020155  0.00150588\n",
            "  0.00069443 -0.00147028  0.00062113 -0.00152082  0.00325965 -0.00428031\n",
            " -0.00341681 -0.00423593 -0.0016625   0.00048834  0.00459484 -0.00480039\n",
            " -0.00318155 -0.00261142 -0.00081028  0.00471364 -0.00470995 -0.00382967\n",
            "  0.00058213  0.00287909 -0.00180657  0.00111537 -0.00299783  0.00036533\n",
            " -0.00015142  0.0040491  -0.00410968  0.00350653 -0.00179692  0.00174362\n",
            " -0.00496884 -0.00035459  0.00209822 -0.00287535  0.00011002  0.00395794\n",
            "  0.00205271  0.00101025 -0.00215963 -0.00310117]\n"
          ],
          "name": "stdout"
        }
      ]
    },
    {
      "cell_type": "markdown",
      "metadata": {
        "id": "2IFF7-IokmZu"
      },
      "source": [
        "#### For embedding with multiword ngrams, refer [this](https://radimrehurek.com/gensim/models/word2vec.html#embeddings-with-multiword-ngrams)"
      ]
    },
    {
      "cell_type": "markdown",
      "metadata": {
        "id": "hSrAbhSglOmG"
      },
      "source": [
        "## Pretrained models"
      ]
    },
    {
      "cell_type": "code",
      "metadata": {
        "id": "o1wbESjBkS6M",
        "outputId": "f7c25fc1-bb6c-422d-c3c4-87a06603792b",
        "colab": {
          "base_uri": "https://localhost:8080/"
        }
      },
      "source": [
        "import gensim.downloader\n",
        "\n",
        "print(list(gensim.downloader.info()['models'].keys()))"
      ],
      "execution_count": 20,
      "outputs": [
        {
          "output_type": "stream",
          "text": [
            "['fasttext-wiki-news-subwords-300', 'conceptnet-numberbatch-17-06-300', 'word2vec-ruscorpora-300', 'word2vec-google-news-300', 'glove-wiki-gigaword-50', 'glove-wiki-gigaword-100', 'glove-wiki-gigaword-200', 'glove-wiki-gigaword-300', 'glove-twitter-25', 'glove-twitter-50', 'glove-twitter-100', 'glove-twitter-200', '__testing_word2vec-matrix-synopsis']\n"
          ],
          "name": "stdout"
        }
      ]
    },
    {
      "cell_type": "code",
      "metadata": {
        "id": "R2VfVvgllX_v",
        "outputId": "c6692f4f-c922-41d6-b25b-b387b165a322",
        "colab": {
          "base_uri": "https://localhost:8080/"
        }
      },
      "source": [
        "# download \"glove-twitter-25\" embeddings\n",
        "glove_vectos = gensim.downloader.load('glove-twitter-25')"
      ],
      "execution_count": 21,
      "outputs": [
        {
          "output_type": "stream",
          "text": [
            "[==================================================] 100.0% 104.8/104.8MB downloaded\n"
          ],
          "name": "stdout"
        }
      ]
    },
    {
      "cell_type": "code",
      "metadata": {
        "id": "NYBRiveOlleZ",
        "outputId": "1139fb28-35fa-4c4b-8a5a-39c5f5e3d715",
        "colab": {
          "base_uri": "https://localhost:8080/"
        }
      },
      "source": [
        "# use the downloaded vectors as usual\n",
        "glove_vectos.most_similar('twitter')"
      ],
      "execution_count": 24,
      "outputs": [
        {
          "output_type": "execute_result",
          "data": {
            "text/plain": [
              "[('facebook', 0.9480051398277283),\n",
              " ('tweet', 0.9403422474861145),\n",
              " ('fb', 0.9342358708381653),\n",
              " ('instagram', 0.9104823470115662),\n",
              " ('chat', 0.8964964747428894),\n",
              " ('hashtag', 0.8885936141014099),\n",
              " ('tweets', 0.8878157734870911),\n",
              " ('tl', 0.8778461813926697),\n",
              " ('link', 0.877821147441864),\n",
              " ('internet', 0.8753897547721863)]"
            ]
          },
          "metadata": {
            "tags": []
          },
          "execution_count": 24
        }
      ]
    },
    {
      "cell_type": "code",
      "metadata": {
        "id": "3OUgw2ILmMtE",
        "outputId": "347c1b33-8c41-4a94-e5ac-bc6352ee7c1e",
        "colab": {
          "base_uri": "https://localhost:8080/"
        }
      },
      "source": [
        "glove_vectos.most_similar('obama')"
      ],
      "execution_count": 26,
      "outputs": [
        {
          "output_type": "execute_result",
          "data": {
            "text/plain": [
              "[('romney', 0.9566565155982971),\n",
              " ('president', 0.9400959014892578),\n",
              " ('barack', 0.9376798272132874),\n",
              " ('clinton', 0.928589940071106),\n",
              " ('says', 0.9087843298912048),\n",
              " ('bill', 0.9080008864402771),\n",
              " ('claims', 0.9074634909629822),\n",
              " ('hillary', 0.888924777507782),\n",
              " ('talks', 0.8864544034004211),\n",
              " ('government', 0.8833803534507751)]"
            ]
          },
          "metadata": {
            "tags": []
          },
          "execution_count": 26
        }
      ]
    },
    {
      "cell_type": "markdown",
      "metadata": {
        "id": "o_H4HiELmW6_"
      },
      "source": [
        "## Gensim word vector visualization of various word vectors"
      ]
    },
    {
      "cell_type": "code",
      "metadata": {
        "id": "0XMTOTx5mOnU"
      },
      "source": [
        "import numpy as np\n",
        "\n",
        "# Get the interactive Tools for Matplotlib\n",
        "%matplotlib inline\n",
        "import matplotlib.pyplot as plt\n",
        "plt.style.use('ggplot')\n",
        "\n",
        "from sklearn.decomposition import PCA\n",
        "\n",
        "from gensim.test.utils import datapath, get_tmpfile\n",
        "from gensim.models import KeyedVectors\n",
        "from gensim.scripts.glove2word2vec import glove2word2vec"
      ],
      "execution_count": 52,
      "outputs": []
    },
    {
      "cell_type": "markdown",
      "metadata": {
        "id": "r_djjsCBmtCO"
      },
      "source": [
        "First, let's download the GloVe word vectors by stanford. \n",
        "GloVe vectors can be converted to word2vec format. To know more about GloVe, read [this](https://nlp.stanford.edu/projects/glove/)"
      ]
    },
    {
      "cell_type": "code",
      "metadata": {
        "id": "naIW8zFYnApE",
        "outputId": "9ee189e0-5ce1-4603-db13-68189efa5dbc",
        "colab": {
          "base_uri": "https://localhost:8080/"
        }
      },
      "source": [
        "!wget https://nlp.stanford.edu/data/glove.6B.zip"
      ],
      "execution_count": 30,
      "outputs": [
        {
          "output_type": "stream",
          "text": [
            "--2021-04-05 06:00:00--  https://nlp.stanford.edu/data/glove.6B.zip\n",
            "Resolving nlp.stanford.edu (nlp.stanford.edu)... 171.64.67.140\n",
            "Connecting to nlp.stanford.edu (nlp.stanford.edu)|171.64.67.140|:443... connected.\n",
            "HTTP request sent, awaiting response... 301 Moved Permanently\n",
            "Location: http://downloads.cs.stanford.edu/nlp/data/glove.6B.zip [following]\n",
            "--2021-04-05 06:00:01--  http://downloads.cs.stanford.edu/nlp/data/glove.6B.zip\n",
            "Resolving downloads.cs.stanford.edu (downloads.cs.stanford.edu)... 171.64.64.22\n",
            "Connecting to downloads.cs.stanford.edu (downloads.cs.stanford.edu)|171.64.64.22|:80... connected.\n",
            "HTTP request sent, awaiting response... 200 OK\n",
            "Length: 862182613 (822M) [application/zip]\n",
            "Saving to: ‘glove.6B.zip’\n",
            "\n",
            "glove.6B.zip        100%[===================>] 822.24M  5.12MB/s    in 2m 40s  \n",
            "\n",
            "2021-04-05 06:02:41 (5.13 MB/s) - ‘glove.6B.zip’ saved [862182613/862182613]\n",
            "\n"
          ],
          "name": "stdout"
        }
      ]
    },
    {
      "cell_type": "code",
      "metadata": {
        "id": "ur50jpKRoF8v",
        "outputId": "fa5c4c70-53f8-46ee-d887-6dd51e5c0d41",
        "colab": {
          "base_uri": "https://localhost:8080/"
        }
      },
      "source": [
        "!unzip glove.6B.zip"
      ],
      "execution_count": 31,
      "outputs": [
        {
          "output_type": "stream",
          "text": [
            "Archive:  glove.6B.zip\n",
            "  inflating: glove.6B.50d.txt        \n",
            "  inflating: glove.6B.100d.txt       \n",
            "  inflating: glove.6B.200d.txt       \n",
            "  inflating: glove.6B.300d.txt       \n"
          ],
          "name": "stdout"
        }
      ]
    },
    {
      "cell_type": "code",
      "metadata": {
        "id": "QxmzGzCJmd0B",
        "outputId": "ae51dcf8-082b-41c3-b8e6-e33ceeecc0d8",
        "colab": {
          "base_uri": "https://localhost:8080/"
        }
      },
      "source": [
        "glove_file = datapath('/content/glove.6B.100d.txt')\n",
        "word2vec_glove_file = get_tmpfile(\"glove.6B.100d.word2vec.txt\")\n",
        "glove2word2vec(glove_file, word2vec_glove_file)"
      ],
      "execution_count": 32,
      "outputs": [
        {
          "output_type": "execute_result",
          "data": {
            "text/plain": [
              "(400000, 100)"
            ]
          },
          "metadata": {
            "tags": []
          },
          "execution_count": 32
        }
      ]
    },
    {
      "cell_type": "code",
      "metadata": {
        "id": "6uR408EDoj3N"
      },
      "source": [
        "model = KeyedVectors.load_word2vec_format(word2vec_glove_file)"
      ],
      "execution_count": 33,
      "outputs": []
    },
    {
      "cell_type": "code",
      "metadata": {
        "id": "IdpwejByotnS",
        "outputId": "d7421eca-1d1e-404b-c335-520ade2a3630",
        "colab": {
          "base_uri": "https://localhost:8080/"
        }
      },
      "source": [
        "model.most_similar('obama')"
      ],
      "execution_count": 34,
      "outputs": [
        {
          "output_type": "execute_result",
          "data": {
            "text/plain": [
              "[('barack', 0.937216579914093),\n",
              " ('bush', 0.927285373210907),\n",
              " ('clinton', 0.8960003852844238),\n",
              " ('mccain', 0.8875633478164673),\n",
              " ('gore', 0.8000321388244629),\n",
              " ('hillary', 0.7933663129806519),\n",
              " ('dole', 0.7851964235305786),\n",
              " ('rodham', 0.751889705657959),\n",
              " ('romney', 0.7488929629325867),\n",
              " ('kerry', 0.7472623586654663)]"
            ]
          },
          "metadata": {
            "tags": []
          },
          "execution_count": 34
        }
      ]
    },
    {
      "cell_type": "code",
      "metadata": {
        "id": "vT8e-o2zo6Oy",
        "outputId": "8e28ed8e-c143-442b-be7d-d6fa1d92b04f",
        "colab": {
          "base_uri": "https://localhost:8080/"
        }
      },
      "source": [
        "model.most_similar('banana')"
      ],
      "execution_count": 35,
      "outputs": [
        {
          "output_type": "execute_result",
          "data": {
            "text/plain": [
              "[('coconut', 0.7097253799438477),\n",
              " ('mango', 0.7054824233055115),\n",
              " ('bananas', 0.6887733936309814),\n",
              " ('potato', 0.6629636287689209),\n",
              " ('pineapple', 0.6534532904624939),\n",
              " ('fruit', 0.6519855260848999),\n",
              " ('peanut', 0.6420576572418213),\n",
              " ('pecan', 0.6349173188209534),\n",
              " ('cashew', 0.6294420957565308),\n",
              " ('papaya', 0.6246591210365295)]"
            ]
          },
          "metadata": {
            "tags": []
          },
          "execution_count": 35
        }
      ]
    },
    {
      "cell_type": "code",
      "metadata": {
        "id": "uUrZqtSBo70y",
        "outputId": "810a7116-4f21-4a26-da98-37a670ea3487",
        "colab": {
          "base_uri": "https://localhost:8080/"
        }
      },
      "source": [
        "# gives non-similar words to banana\n",
        "model.most_similar(negative='banana')"
      ],
      "execution_count": 36,
      "outputs": [
        {
          "output_type": "execute_result",
          "data": {
            "text/plain": [
              "[('keyrates', 0.7173938751220703),\n",
              " ('sungrebe', 0.7119239568710327),\n",
              " ('þórður', 0.7067720890045166),\n",
              " ('zety', 0.7056615352630615),\n",
              " ('23aou94', 0.6959497928619385),\n",
              " ('___________________________________________________________',\n",
              "  0.694915235042572),\n",
              " ('elymians', 0.6945434212684631),\n",
              " ('camarina', 0.6927202939987183),\n",
              " ('ryryryryryry', 0.6905653476715088),\n",
              " ('maurilio', 0.6865653395652771)]"
            ]
          },
          "metadata": {
            "tags": []
          },
          "execution_count": 36
        }
      ]
    },
    {
      "cell_type": "markdown",
      "metadata": {
        "id": "H07B6lt2pZ7M"
      },
      "source": [
        "![](https://www.ed.ac.uk/files/styles/landscape_breakpoints_theme_uoe_mobile_1x/public/thumbnails/image/diagram-20190710.png?itok=9oAxK0yB)"
      ]
    },
    {
      "cell_type": "code",
      "metadata": {
        "id": "xCRDxuSkpCl2",
        "outputId": "edc48cbb-0a0a-41a2-99b8-910399a42987",
        "colab": {
          "base_uri": "https://localhost:8080/"
        }
      },
      "source": [
        "result = model.most_similar(positive=['woman', 'king'], negative=['man'])\n",
        "print(\"{}: {:.4f}\".format(*result[0]))"
      ],
      "execution_count": 37,
      "outputs": [
        {
          "output_type": "stream",
          "text": [
            "queen: 0.7699\n"
          ],
          "name": "stdout"
        }
      ]
    },
    {
      "cell_type": "code",
      "metadata": {
        "id": "ctgZx1tXpRA8"
      },
      "source": [
        "def analogy(x1, x2, y1):\n",
        "    result = model.most_similar(positive=[y1,x2], negative=[x1])\n",
        "    return result[0][0]"
      ],
      "execution_count": 41,
      "outputs": []
    },
    {
      "cell_type": "code",
      "metadata": {
        "id": "NriNq5Q3pqVl",
        "outputId": "ee59139e-ff22-4182-98e9-6564a0d2cf8c",
        "colab": {
          "base_uri": "https://localhost:8080/",
          "height": 35
        }
      },
      "source": [
        "analogy('japan', 'japanese', 'india')"
      ],
      "execution_count": 43,
      "outputs": [
        {
          "output_type": "execute_result",
          "data": {
            "application/vnd.google.colaboratory.intrinsic+json": {
              "type": "string"
            },
            "text/plain": [
              "'indian'"
            ]
          },
          "metadata": {
            "tags": []
          },
          "execution_count": 43
        }
      ]
    },
    {
      "cell_type": "code",
      "metadata": {
        "id": "rVwTV3Snpvoe",
        "outputId": "a215fbd4-adb0-4ee8-bf26-5f3d2bed3862",
        "colab": {
          "base_uri": "https://localhost:8080/",
          "height": 35
        }
      },
      "source": [
        "analogy('obama', 'clinton', 'reagan')"
      ],
      "execution_count": 44,
      "outputs": [
        {
          "output_type": "execute_result",
          "data": {
            "application/vnd.google.colaboratory.intrinsic+json": {
              "type": "string"
            },
            "text/plain": [
              "'nixon'"
            ]
          },
          "metadata": {
            "tags": []
          },
          "execution_count": 44
        }
      ]
    },
    {
      "cell_type": "code",
      "metadata": {
        "id": "prAHS5ccp-sY",
        "outputId": "4dde24ce-19db-474d-da7e-41a1531166f3",
        "colab": {
          "base_uri": "https://localhost:8080/",
          "height": 35
        }
      },
      "source": [
        "analogy('tall', 'tallest', 'long')"
      ],
      "execution_count": 45,
      "outputs": [
        {
          "output_type": "execute_result",
          "data": {
            "application/vnd.google.colaboratory.intrinsic+json": {
              "type": "string"
            },
            "text/plain": [
              "'longest'"
            ]
          },
          "metadata": {
            "tags": []
          },
          "execution_count": 45
        }
      ]
    },
    {
      "cell_type": "code",
      "metadata": {
        "id": "bTP18FpcqAD3",
        "outputId": "0e2f0ad7-30c8-4478-fcc6-898b019d27ac",
        "colab": {
          "base_uri": "https://localhost:8080/",
          "height": 35
        }
      },
      "source": [
        "analogy('good', 'fantastic', 'bad')"
      ],
      "execution_count": 46,
      "outputs": [
        {
          "output_type": "execute_result",
          "data": {
            "application/vnd.google.colaboratory.intrinsic+json": {
              "type": "string"
            },
            "text/plain": [
              "'terrible'"
            ]
          },
          "metadata": {
            "tags": []
          },
          "execution_count": 46
        }
      ]
    },
    {
      "cell_type": "code",
      "metadata": {
        "id": "LbKPRD_vqBSt",
        "outputId": "b947feed-9e6c-4b80-bb4d-85efdb9c6a2a",
        "colab": {
          "base_uri": "https://localhost:8080/"
        }
      },
      "source": [
        "print(model.doesnt_match(\"breakfast cereal dinner lunch\".split()))"
      ],
      "execution_count": 47,
      "outputs": [
        {
          "output_type": "stream",
          "text": [
            "cereal\n"
          ],
          "name": "stdout"
        },
        {
          "output_type": "stream",
          "text": [
            "/usr/local/lib/python3.7/dist-packages/gensim/models/keyedvectors.py:895: FutureWarning: arrays to stack must be passed as a \"sequence\" type such as list or tuple. Support for non-sequence iterables such as generators is deprecated as of NumPy 1.16 and will raise an error in the future.\n",
            "  vectors = vstack(self.word_vec(word, use_norm=True) for word in used_words).astype(REAL)\n"
          ],
          "name": "stderr"
        }
      ]
    },
    {
      "cell_type": "code",
      "metadata": {
        "id": "Gqtg4-mDqCfy"
      },
      "source": [
        "def display_pca_scatterplot(model, words=None, sample=0):\n",
        "    if words == None:\n",
        "        if sample > 0:\n",
        "            words = np.random.choice(list(model.vocab.keys()), sample)\n",
        "        else:\n",
        "            words = [ word for word in model.vocab ]\n",
        "        \n",
        "    word_vectors = np.array([model[w] for w in words])\n",
        "\n",
        "    twodim = PCA().fit_transform(word_vectors)[:,:2]\n",
        "    \n",
        "    plt.figure(figsize=(6,6))\n",
        "    plt.scatter(twodim[:,0], twodim[:,1], edgecolors='k', c='r')\n",
        "    for word, (x,y) in zip(words, twodim):\n",
        "        plt.text(x+0.05, y+0.05, word)"
      ],
      "execution_count": 53,
      "outputs": []
    },
    {
      "cell_type": "code",
      "metadata": {
        "id": "93GwwSOnqI5N",
        "outputId": "67f767ce-4590-4fa7-a594-5fce5e34846f",
        "colab": {
          "base_uri": "https://localhost:8080/",
          "height": 374
        }
      },
      "source": [
        "display_pca_scatterplot(model, \n",
        "                        ['coffee', 'tea', 'beer', 'wine', 'brandy', 'rum', 'champagne', 'water',\n",
        "                         'spaghetti', 'borscht', 'hamburger', 'pizza', 'falafel', 'sushi', 'meatballs',\n",
        "                         'dog', 'horse', 'cat', 'monkey', 'parrot', 'koala', 'lizard',\n",
        "                         'frog', 'toad', 'monkey', 'ape', 'kangaroo', 'wombat', 'wolf',\n",
        "                         'france', 'germany', 'hungary', 'luxembourg', 'australia', 'fiji', 'china',\n",
        "                         'homework', 'assignment', 'problem', 'exam', 'test', 'class',\n",
        "                         'school', 'college', 'university', 'institute'])"
      ],
      "execution_count": 54,
      "outputs": [
        {
          "output_type": "display_data",
          "data": {
            "image/png": "[encoded data removed]",
            "text/plain": [
              "<Figure size 432x432 with 1 Axes>"
            ]
          },
          "metadata": {
            "tags": []
          }
        }
      ]
    },
    {
      "cell_type": "code",
      "metadata": {
        "id": "fwurzOZNqNNu",
        "outputId": "1bd658e5-bf7c-4736-9c20-888558862326",
        "colab": {
          "base_uri": "https://localhost:8080/",
          "height": 374
        }
      },
      "source": [
        "display_pca_scatterplot(model, sample=300)"
      ],
      "execution_count": 55,
      "outputs": [
        {
          "output_type": "display_data",
          "data": {
            "image/png": "[encoded data removed]",
            "text/plain": [
              "<Figure size 432x432 with 1 Axes>"
            ]
          },
          "metadata": {
            "tags": []
          }
        }
      ]
    }
  ]
}